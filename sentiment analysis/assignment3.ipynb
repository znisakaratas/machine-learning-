{
 "cells": [
  {
   "cell_type": "markdown",
   "id": "fc24a835-2ec3-4be9-96d7-a31e9e7ba77b",
   "metadata": {},
   "source": [
    "# Assignment 3: Amazon Reviews Star Rating\n",
    "BBM 409 - Machine Learning Laboratory, Spring 2025  \n",
    "**Names:** [Zeynep Nisa Karataş, Gül Sena Ergun]  \n",
    "**Student IDs:** [2210356066, 2210356113]"
   ]
  },
  {
   "cell_type": "markdown",
   "id": "8a31fe12-ee0e-445f-b872-9e860493a3da",
   "metadata": {},
   "source": [
    "This notebook presents a complete implementation of sentiment classification using a Multinomial Naive Bayes algorithm and a Bag of Words (BoW) representation, both developed from scratch. The dataset used consists of Amazon product reviews that include a star rating, title, and content. The objective is to classify these reviews into binary sentiment classes: positive or negative.\n",
    "\n",
    "The notebook progresses through the following stages:\n",
    "- Data loading and exploration\n",
    "- Text preprocessing (cleaning and tokenization)\n",
    "- Manual sentiment labeling based on star ratings\n",
    "- Feature extraction using BoW for unigrams and bigrams\n",
    "- Naive Bayes classifier training and evaluation\n",
    "- Bonus experiment using Word2Vec + Logistic Regression"
   ]
  },
  {
   "cell_type": "code",
   "execution_count": 4,
   "id": "8d34b4e0-dc03-4e8b-82da-249397816f64",
   "metadata": {},
   "outputs": [],
   "source": [
    "import pandas as pd\n",
    "import numpy as np\n",
    "import matplotlib.pyplot as plt\n",
    "import seaborn as sns\n",
    "from sklearn.model_selection import train_test_split\n",
    "from collections import defaultdict, Counter\n",
    "import re\n",
    "import math"
   ]
  },
  {
   "cell_type": "code",
   "execution_count": 62,
   "id": "fae87351-7340-485c-9f1f-c3fdec426852",
   "metadata": {},
   "outputs": [
    {
     "name": "stdout",
     "output_type": "stream",
     "text": [
      "Library Versions:\n",
      "pandas: 2.2.2\n",
      "numpy: 1.26.4\n",
      "matplotlib: 3.9.2\n",
      "seaborn: 0.13.2\n",
      "scikit-learn: 1.5.1\n",
      "gensim: 4.3.3\n"
     ]
    }
   ],
   "source": [
    "# Print versions of key libraries used in this notebook\n",
    "print(\"Library Versions:\")\n",
    "print(\"pandas:\", pd.__version__)\n",
    "print(\"numpy:\", np.__version__)\n",
    "print(\"matplotlib:\", plt.matplotlib.__version__)\n",
    "print(\"seaborn:\", sns.__version__)\n",
    "import sklearn\n",
    "print(\"scikit-learn:\", sklearn.__version__)\n",
    "import gensim\n",
    "print(\"gensim:\", gensim.__version__)"
   ]
  },
  {
   "cell_type": "code",
   "execution_count": 8,
   "id": "ce50ef66-d2ab-4b94-90db-4bdb52bff5f1",
   "metadata": {},
   "outputs": [],
   "source": [
    "# Load the CSV dataset that contains product reviews with star ratings, titles and content.\n",
    "file_path = 'amazon_reviews.csv'\n",
    "df = pd.read_csv(file_path)"
   ]
  },
  {
   "cell_type": "code",
   "execution_count": 10,
   "id": "f6147e44-4968-4615-8e88-e45e59db4fce",
   "metadata": {},
   "outputs": [
    {
     "data": {
      "text/html": [
       "<div>\n",
       "<style scoped>\n",
       "    .dataframe tbody tr th:only-of-type {\n",
       "        vertical-align: middle;\n",
       "    }\n",
       "\n",
       "    .dataframe tbody tr th {\n",
       "        vertical-align: top;\n",
       "    }\n",
       "\n",
       "    .dataframe thead th {\n",
       "        text-align: right;\n",
       "    }\n",
       "</style>\n",
       "<table border=\"1\" class=\"dataframe\">\n",
       "  <thead>\n",
       "    <tr style=\"text-align: right;\">\n",
       "      <th></th>\n",
       "      <th>Title</th>\n",
       "      <th>Content</th>\n",
       "      <th>Star</th>\n",
       "    </tr>\n",
       "  </thead>\n",
       "  <tbody>\n",
       "    <tr>\n",
       "      <th>0</th>\n",
       "      <td>Didn't work</td>\n",
       "      <td>No change in nails at all.</td>\n",
       "      <td>1.0</td>\n",
       "    </tr>\n",
       "    <tr>\n",
       "      <th>1</th>\n",
       "      <td>Worst nail product I have ever used.</td>\n",
       "      <td>Garbage! Do not waste your $$$. My nails were ...</td>\n",
       "      <td>1.0</td>\n",
       "    </tr>\n",
       "    <tr>\n",
       "      <th>2</th>\n",
       "      <td>Just didn't work</td>\n",
       "      <td>Nails are still brittle</td>\n",
       "      <td>1.0</td>\n",
       "    </tr>\n",
       "    <tr>\n",
       "      <th>3</th>\n",
       "      <td>Scum</td>\n",
       "      <td>Didn’t do any improvement at all.</td>\n",
       "      <td>1.0</td>\n",
       "    </tr>\n",
       "    <tr>\n",
       "      <th>4</th>\n",
       "      <td>Okay for cuticles</td>\n",
       "      <td>Helped cuticles, didn't do much for my nails. ...</td>\n",
       "      <td>1.0</td>\n",
       "    </tr>\n",
       "  </tbody>\n",
       "</table>\n",
       "</div>"
      ],
      "text/plain": [
       "                                  Title  \\\n",
       "0                           Didn't work   \n",
       "1  Worst nail product I have ever used.   \n",
       "2                      Just didn't work   \n",
       "3                                  Scum   \n",
       "4                     Okay for cuticles   \n",
       "\n",
       "                                             Content  Star  \n",
       "0                         No change in nails at all.   1.0  \n",
       "1  Garbage! Do not waste your $$$. My nails were ...   1.0  \n",
       "2                            Nails are still brittle   1.0  \n",
       "3                  Didn’t do any improvement at all.   1.0  \n",
       "4  Helped cuticles, didn't do much for my nails. ...   1.0  "
      ]
     },
     "execution_count": 10,
     "metadata": {},
     "output_type": "execute_result"
    }
   ],
   "source": [
    "df.head()"
   ]
  },
  {
   "cell_type": "code",
   "execution_count": 12,
   "id": "144ef055-3efa-4bd3-9c47-2a16220b6b10",
   "metadata": {},
   "outputs": [
    {
     "data": {
      "image/png": "[encoded data removed]",
      "text/plain": [
       "<Figure size 640x480 with 1 Axes>"
      ]
     },
     "metadata": {},
     "output_type": "display_data"
    }
   ],
   "source": [
    "# Dataset Overview, the distribution of review stars\n",
    "sns.countplot(x='Star', data=df)\n",
    "plt.title('Star Rating Distribution')\n",
    "plt.show()"
   ]
  },
  {
   "cell_type": "markdown",
   "id": "c059d04f-744e-46c7-b212-add838a51344",
   "metadata": {},
   "source": [
    "This helps to verify the balance between classes (each star count should be equal in this dataset)."
   ]
  },
  {
   "cell_type": "markdown",
   "id": "4c48bc67-2dca-479d-8455-4038ccd0a623",
   "metadata": {},
   "source": [
    "### Preprocessing"
   ]
  },
  {
   "cell_type": "code",
   "execution_count": 16,
   "id": "aab4c61b-6870-4d06-8c09-3799b7457492",
   "metadata": {},
   "outputs": [],
   "source": [
    "# Define stopwords manually (as NLTK is not allowed)\n",
    "STOPWORDS = set([\"the\", \"is\", \"and\", \"to\", \"this\", \"it\", \"of\", \"for\", \"in\", \"on\", \"a\", \"an\", \"that\", \"with\", \"as\", \"was\", \"are\"])\n"
   ]
  },
  {
   "cell_type": "code",
   "execution_count": 18,
   "id": "ba9ccd28-9df8-4892-a9fd-8be9692770c6",
   "metadata": {},
   "outputs": [],
   "source": [
    "def clean_text(text):\n",
    "    text = str(text).lower()\n",
    "    text = re.sub(r'[^\\w\\s]', '', text)  # Remove punctuation\n",
    "    tokens = text.split()\n",
    "    return [word for word in tokens if word not in STOPWORDS]\n",
    "# Function to clean and tokenize text by removing punctuation and stopwords"
   ]
  },
  {
   "cell_type": "code",
   "execution_count": 20,
   "id": "04c0d527-48f5-41b6-8371-84c05b2dd276",
   "metadata": {},
   "outputs": [],
   "source": [
    "# Combine title and content, and apply cleaning\n",
    "# This allows using both title and content fields as input text features.\n",
    "df['combined'] = df['Title'].fillna('') + ' ' + df['Content'].fillna('')\n",
    "df['tokens'] = df['combined'].apply(clean_text)"
   ]
  },
  {
   "cell_type": "code",
   "execution_count": 25,
   "id": "1dae7b60-aa9e-463e-98a2-949fa9e9afb3",
   "metadata": {},
   "outputs": [],
   "source": [
    "filtered_df = df[df['Star'] != 3].copy()  # <- .copy() burada önemli\n",
    "filtered_df['label'] = filtered_df['Star'].apply(lambda x: 1 if x >= 4 else 0)"
   ]
  },
  {
   "cell_type": "markdown",
   "id": "6b489ccd-5836-4f32-a4b4-6f9fe8ed57a7",
   "metadata": {},
   "source": [
    "### Labeling\n",
    "\n",
    "Convert review stars into binary sentiment labels: 1-2 → negative (0), 4-5 → positive (1), and exclude 3. This transformation simplifies the problem into a binary classification task (positive vs negative sentiment).\n"
   ]
  },
  {
   "cell_type": "code",
   "execution_count": 29,
   "id": "45216382-bb0d-4b62-8973-549cb84984e3",
   "metadata": {},
   "outputs": [],
   "source": [
    "# Train-Test Split\n",
    "train_data, test_data = train_test_split(filtered_df, test_size=0.2, stratify=filtered_df['label'], random_state=42)\n"
   ]
  },
  {
   "cell_type": "code",
   "execution_count": 31,
   "id": "bfe5eb42-c81b-4e61-87a9-9a4717a0ca37",
   "metadata": {},
   "outputs": [],
   "source": [
    "# Bag of Words Class (Unigram & Bigram)\n",
    "class BagOfWords:\n",
    "    def __init__(self, ngram=1):\n",
    "        self.ngram = ngram\n",
    "        self.vocab = {}\n",
    "        self.word_counts = {}\n",
    "\n",
    "    def generate_ngrams(self, tokens):\n",
    "        return [\" \".join(tokens[i:i+self.ngram]) for i in range(len(tokens)-self.ngram+1)]\n",
    "\n",
    "    def fit(self, texts):\n",
    "        word_counter = Counter()\n",
    "        for tokens in texts:\n",
    "            ngrams = self.generate_ngrams(tokens)\n",
    "            word_counter.update(ngrams)\n",
    "        self.vocab = {word: idx for idx, (word, count) in enumerate(word_counter.items()) if count >= 2}\n",
    "\n",
    "\n",
    "    def transform(self, texts):\n",
    "        vectors = []\n",
    "        max_idx = max(self.vocab.values()) + 1\n",
    "        for tokens in texts:\n",
    "            vec = np.zeros(max_idx)\n",
    "            ngrams = self.generate_ngrams(tokens)\n",
    "            for ngram in ngrams:\n",
    "                idx = self.vocab.get(ngram)\n",
    "                if idx is not None:\n",
    "                    vec[idx] += 1\n",
    "            vectors.append(vec)\n",
    "        return np.array(vectors)"
   ]
  },
  {
   "cell_type": "markdown",
   "id": "ff213012-3138-445d-b427-db254c0bb26d",
   "metadata": {},
   "source": [
    "## Bag of Words Class\n",
    "\n",
    "The `BagOfWords` class defined in this section is a custom implementation of a feature extraction technique widely used in text classification tasks. This class supports both **unigram**, **bigram**, or more generally, **n-gram** representations of text.\n",
    "\n",
    "### Key Components:\n",
    "- `ngram`: Determines the size of the n-gram (e.g., `1` for unigrams, `2` for bigrams).\n",
    "- `vocab`: A dictionary that maps each observed n-gram to a unique index in the feature vector.\n",
    "- `generate_ngrams()`: A helper method that slices a list of tokens into consecutive n-grams.\n",
    "- `fit()`: Scans through all the input text samples, generates n-grams, and builds the vocabulary. To prevent noise, only n-grams that appear at least twice are included.\n",
    "- `transform()`: Converts each tokenized input text into a fixed-length numerical vector by counting occurrences of n-grams found in the trained vocabulary.\n",
    "- \n",
    "This class is the backbone of the feature extraction process. It transforms raw, tokenized text into structured numerical features that are essential for training the Naive Bayes classifier. By supporting different n-gram levels, it also enables experimentation with richer text representations for potentially better performance.\n"
   ]
  },
  {
   "cell_type": "code",
   "execution_count": 39,
   "id": "f41a36e5-9fd5-4b58-9bfb-d78685af8d3d",
   "metadata": {},
   "outputs": [],
   "source": [
    "## 📊 10. Naive Bayes Classifier (From Scratch)\n",
    "class NaiveBayes:\n",
    "    def __init__(self):\n",
    "        self.class_probs = {} # Stores the logarithmic prior probabilities of each class.\n",
    "        self.word_probs = {} # Stores the logarithmic conditional probabilities of each feature (word/term) given the class.\n",
    "        self.vocab_size = 0 # Tracks the size of the feature space (BoW vocabulary).\n",
    "\n",
    "    def fit(self, X, y):\n",
    "        self.vocab_size = X.shape[1]\n",
    "        class_counts = np.bincount(y)\n",
    "        total_samples = len(y)\n",
    "        self.class_probs = {c: np.log(class_counts[c] / total_samples) for c in [0, 1]}\n",
    "\n",
    "        word_counts = {0: np.ones(self.vocab_size), 1: np.ones(self.vocab_size)}  # Laplace smoothing\n",
    "        for i, label in enumerate(y):\n",
    "            word_counts[label] += X[i]\n",
    "\n",
    "        total_words = {\n",
    "            c: np.sum(word_counts[c]) for c in [0, 1]\n",
    "        }\n",
    "\n",
    "        self.word_probs = {\n",
    "            c: np.log(word_counts[c] / total_words[c]) for c in [0, 1]\n",
    "        }\n",
    "\n",
    "    def predict(self, X):\n",
    "        results = []\n",
    "        for vec in X:\n",
    "            scores = {}\n",
    "            for c in [0, 1]:\n",
    "                scores[c] = self.class_probs[c] + np.sum(vec * self.word_probs[c])\n",
    "            results.append(max(scores, key=scores.get))\n",
    "        return np.array(results)\n"
   ]
  },
  {
   "cell_type": "markdown",
   "id": "acbf7bde-17ce-4914-bd36-822361b43fa6",
   "metadata": {},
   "source": [
    "## Naive Bayes Classifier\n",
    "\n",
    "This section defines a fully custom implementation of a **Multinomial Naive Bayes** classifier, tailored for document classification tasks based on word frequency.\n",
    "\n",
    "### Key Methods:\n",
    "- `fit(X, y)`: \n",
    "  - Computes the **log prior probabilities** of each class using `log(P(c))`.\n",
    "  - Calculates **log likelihoods** `log(P(w|c))` for each word using Laplace smoothing to handle zero-frequency issues.\n",
    "  - Smoothing is achieved by initializing word counts with `1`, ensuring no zero probability.\n",
    "\n",
    "- `predict(X)`:\n",
    "  - For each document vector, it calculates the total log probability of each class.\n",
    "  - The class with the higher log-probability score is chosen as the prediction.\n",
    "  - It uses the **naive assumption** of feature independence and applies **log-space addition** for numerical stability.\n",
    "\n",
    "\n",
    "- **Logarithmic computation** is used instead of direct multiplication to avoid numerical underflow in very long documents.\n",
    "- **Laplace smoothing** ensures that unseen words in the training set do not cause the model to assign zero probability during testing.\n",
    "- Works efficiently with the Bag of Words representation generated earlier.\n"
   ]
  },
  {
   "cell_type": "markdown",
   "id": "a63c2e71-1967-4416-9ed8-3115ebe914ad",
   "metadata": {},
   "source": [
    "## Train and Evaluate\n",
    "\n"
   ]
  },
  {
   "cell_type": "code",
   "execution_count": 46,
   "id": "798f4cbf-0440-457c-bf22-0c6eb972d5bb",
   "metadata": {},
   "outputs": [],
   "source": [
    "# Unigram\n",
    "bow_unigram = BagOfWords(ngram=1)\n",
    "bow_unigram.fit(train_data['tokens'])\n",
    "X_train_uni = bow_unigram.transform(train_data['tokens'])\n",
    "X_test_uni = bow_unigram.transform(test_data['tokens'])"
   ]
  },
  {
   "cell_type": "markdown",
   "id": "19c717e6-5579-4daa-8790-25ee78578639",
   "metadata": {},
   "source": [
    "## Unigram Vectorization\n",
    "\n",
    "We use the `BagOfWords` class with `ngram=1` to extract unigram features from the text.  \n",
    "First, we build a vocabulary from the training data (`fit`), then convert both train and test texts into numerical vectors (`transform`).  \n",
    "This prepares the data for the Naive Bayes classifier by turning each review into a vector of word counts.\n"
   ]
  },
  {
   "cell_type": "code",
   "execution_count": 50,
   "id": "5e0584ed-5a3c-44a0-8583-ba70e9630c68",
   "metadata": {},
   "outputs": [],
   "source": [
    "nb_uni = NaiveBayes()\n",
    "nb_uni.fit(X_train_uni, train_data['label'].values)\n",
    "y_pred_uni = nb_uni.predict(X_test_uni)"
   ]
  },
  {
   "cell_type": "markdown",
   "id": "d2e0f628-e1ae-417f-992c-f5588f5abf67",
   "metadata": {},
   "source": [
    "We initialize the Naive Bayes classifier and train it using unigram feature vectors.  \n",
    "Then, we predict sentiment labels on the test set.  \n",
    "The model uses learned word probabilities and class priors to make predictions.\n"
   ]
  },
  {
   "cell_type": "code",
   "execution_count": 53,
   "id": "eaa0d497-3605-4965-a96a-f0c6aaa3a683",
   "metadata": {},
   "outputs": [
    {
     "data": {
      "image/png": "[encoded data removed]",
      "text/plain": [
       "<Figure size 640x480 with 2 Axes>"
      ]
     },
     "metadata": {},
     "output_type": "display_data"
    },
    {
     "name": "stdout",
     "output_type": "stream",
     "text": [
      "Unigram Model Performance:\n",
      "Accuracy: 0.8732758620689656\n",
      "Precision: 0.8689502385821404\n",
      "Recall: 0.8791379310344828\n",
      "F1-Score: 0.8740143983544738\n"
     ]
    }
   ],
   "source": [
    "from sklearn.metrics import accuracy_score, precision_score, recall_score, f1_score, confusion_matrix\n",
    "cm = confusion_matrix(test_data['label'], y_pred_uni)\n",
    "sns.heatmap(cm, annot=True, fmt='d', cmap='Blues', xticklabels=['Negative', 'Positive'], yticklabels=['Negative', 'Positive'])\n",
    "plt.xlabel('Predicted')\n",
    "plt.ylabel('True')\n",
    "plt.title('Confusion Matrix (Unigram)')\n",
    "plt.show()\n",
    "print(\"Unigram Model Performance:\")\n",
    "print(\"Accuracy:\", accuracy_score(test_data['label'], y_pred_uni))\n",
    "print(\"Precision:\", precision_score(test_data['label'], y_pred_uni))\n",
    "print(\"Recall:\", recall_score(test_data['label'], y_pred_uni))\n",
    "print(\"F1-Score:\", f1_score(test_data['label'], y_pred_uni))"
   ]
  },
  {
   "cell_type": "markdown",
   "id": "286ab35b-f638-465f-83f6-e09709bde00c",
   "metadata": {},
   "source": [
    "## BONUS: Word Embeddings + Logistic Regression"
   ]
  },
  {
   "cell_type": "code",
   "execution_count": 64,
   "id": "a4995bdb-cccb-4171-97a3-e214d240762d",
   "metadata": {},
   "outputs": [],
   "source": [
    "from gensim.models import Word2Vec\n",
    "from sklearn.linear_model import LogisticRegression"
   ]
  },
  {
   "cell_type": "code",
   "execution_count": 66,
   "id": "3c84832f-0e4e-4559-8de1-9126b8fe337a",
   "metadata": {},
   "outputs": [],
   "source": [
    "# Train Word2Vec on tokens\n",
    "w2v_model = Word2Vec(sentences=train_data['tokens'], vector_size=100, window=5, min_count=2, workers=4)\n"
   ]
  },
  {
   "cell_type": "markdown",
   "id": "9ef1127d-f51a-4e3f-a577-91ed38007eb1",
   "metadata": {},
   "source": [
    "## Word2Vec Embedding\n",
    "\n",
    "We train a Word2Vec model using the tokenized training data.  \n",
    "Each review is represented as the **average vector** of the embeddings of its valid words.  \n",
    "This allows capturing semantic relationships between words, unlike Bag of Words which only considers frequency.\n"
   ]
  },
  {
   "cell_type": "code",
   "execution_count": 69,
   "id": "6676d08a-061b-4e9f-9378-756b48593166",
   "metadata": {},
   "outputs": [],
   "source": [
    "def average_embedding(tokens):\n",
    "    valid_tokens = [t for t in tokens if t in w2v_model.wv]\n",
    "    if not valid_tokens:\n",
    "        return np.zeros(100)\n",
    "    return np.mean(w2v_model.wv[valid_tokens], axis=0)\n"
   ]
  },
  {
   "cell_type": "markdown",
   "id": "0cada3e4-e357-4a33-aed9-e53489e6e65b",
   "metadata": {},
   "source": [
    "This function converts a list of tokens into a single vector by averaging the Word2Vec embeddings of all valid words.  \n",
    "If none of the tokens exist in the Word2Vec vocabulary, it returns a zero vector.  \n",
    "This provides a fixed-size, dense representation for each review, capturing overall semantic meaning."
   ]
  },
  {
   "cell_type": "code",
   "execution_count": 72,
   "id": "2add35d2-b2e0-46e6-bd1e-0cc8dbd0f082",
   "metadata": {},
   "outputs": [],
   "source": [
    "X_train_w2v = np.vstack(train_data['tokens'].apply(average_embedding))\n",
    "X_test_w2v = np.vstack(test_data['tokens'].apply(average_embedding))\n",
    "# Convert each review to a fixed-size vector using averaged Word2Vec embeddings.  \n",
    "#`np.vstack` stacks them into a 2D input array."
   ]
  },
  {
   "cell_type": "code",
   "execution_count": 77,
   "id": "3aec7a57-269b-4d95-96eb-c900636e9126",
   "metadata": {},
   "outputs": [],
   "source": [
    "clf = LogisticRegression()\n",
    "clf.fit(X_train_w2v, train_data['label'])\n",
    "y_pred_w2v = clf.predict(X_test_w2v)"
   ]
  },
  {
   "cell_type": "markdown",
   "id": "097bde22-0eaa-4f4a-bcc2-a434492e8273",
   "metadata": {},
   "source": [
    "## Training and Prediction with Logistic Regression\n",
    "\n",
    "In this step, we train a `LogisticRegression` model using the averaged Word2Vec embeddings as input features.  \n",
    "Logistic Regression is a commonly used linear classifier, especially effective when input features are dense and meaningful—as is the case with word embeddings.\n",
    "\n",
    "Once the model is trained on the training set (`X_train_w2v`), we use it to predict sentiment labels on the test set (`X_test_w2v`).  \n",
    "This allows us to evaluate how well semantic word vector representations contribute to the overall classification task compared to traditional methods like Bag of Words + Naive Bayes.\n"
   ]
  },
  {
   "cell_type": "code",
   "execution_count": 80,
   "id": "55474248-10f4-49dd-9b33-eefd188b0c52",
   "metadata": {},
   "outputs": [
    {
     "data": {
      "image/png": "[encoded data removed]",
      "text/plain": [
       "<Figure size 640x480 with 2 Axes>"
      ]
     },
     "metadata": {},
     "output_type": "display_data"
    },
    {
     "name": "stdout",
     "output_type": "stream",
     "text": [
      "\n",
      "Bonus: Word2Vec + Logistic Regression Performance:\n",
      "Accuracy: 0.8712931034482758\n",
      "Precision: 0.8854483622695544\n",
      "Recall: 0.8529310344827586\n",
      "F1-Score: 0.8688855712654782\n"
     ]
    }
   ],
   "source": [
    "cm_bonus = confusion_matrix(test_data['label'], y_pred_w2v)\n",
    "sns.heatmap(cm_bonus, annot=True, fmt='d', cmap='Greens', xticklabels=['Negative', 'Positive'], yticklabels=['Negative', 'Positive'])\n",
    "plt.xlabel('Predicted')\n",
    "plt.ylabel('True')\n",
    "plt.title('Confusion Matrix (Word2Vec + Logistic Regression)')\n",
    "plt.show()\n",
    "\n",
    "print(\"\\nBonus: Word2Vec + Logistic Regression Performance:\")\n",
    "print(\"Accuracy:\", accuracy_score(test_data['label'], y_pred_w2v))\n",
    "print(\"Precision:\", precision_score(test_data['label'], y_pred_w2v))\n",
    "print(\"Recall:\", recall_score(test_data['label'], y_pred_w2v))\n",
    "print(\"F1-Score:\", f1_score(test_data['label'], y_pred_w2v))"
   ]
  },
  {
   "cell_type": "code",
   "execution_count": null,
   "id": "19a8a087-fec9-417c-9508-9c5e3782bea1",
   "metadata": {},
   "outputs": [],
   "source": []
  }
 ],
 "metadata": {
  "kernelspec": {
   "display_name": "Python [conda env:base] *",
   "language": "python",
   "name": "conda-base-py"
  },
  "language_info": {
   "codemirror_mode": {
    "name": "ipython",
    "version": 3
   },
   "file_extension": ".py",
   "mimetype": "text/x-python",
   "name": "python",
   "nbconvert_exporter": "python",
   "pygments_lexer": "ipython3",
   "version": "3.12.7"
  }
 },
 "nbformat": 4,
 "nbformat_minor": 5
}
